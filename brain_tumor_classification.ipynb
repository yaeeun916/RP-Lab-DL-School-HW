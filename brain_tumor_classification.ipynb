{
  "nbformat": 4,
  "nbformat_minor": 0,
  "metadata": {
    "colab": {
      "name": "brain tumor classification.ipynb",
      "provenance": [],
      "authorship_tag": "ABX9TyN60FaJwoKnFyviWv+K0ios",
      "include_colab_link": true
    },
    "kernelspec": {
      "name": "python3",
      "display_name": "Python 3"
    }
  },
  "cells": [
    {
      "cell_type": "markdown",
      "metadata": {
        "id": "view-in-github",
        "colab_type": "text"
      },
      "source": [
        "<a href=\"https://colab.research.google.com/github/yaeeun916/RP-Lab-DL-School-HW/blob/main/brain_tumor_classification.ipynb\" target=\"_parent\"><img src=\"https://colab.research.google.com/assets/colab-badge.svg\" alt=\"Open In Colab\"/></a>"
      ]
    },
    {
      "cell_type": "markdown",
      "metadata": {
        "id": "WmH3rV9OrCDG"
      },
      "source": [
        "##1. 사용자 정의 PYTORCH DATALOADER "
      ]
    },
    {
      "cell_type": "code",
      "metadata": {
        "id": "M07K0v8krFke"
      },
      "source": [
        "from __future__ import print_function, division\r\n",
        "import os\r\n",
        "import torch\r\n",
        "import pandas as pd\r\n",
        "from skimage import io, transform\r\n",
        "import numpy as np\r\n",
        "import matplotlib.pyplot as plt\r\n",
        "from torch.utils.data import Dataset, DataLoader\r\n",
        "from torchvision import transforms, utils\r\n",
        "\r\n",
        "# 경고 메시지 무시하기\r\n",
        "import warnings\r\n",
        "warnings.filterwarnings(\"ignore\")\r\n",
        "\r\n",
        "plt.ion()   # 반응형 모드 설정"
      ],
      "execution_count": 1,
      "outputs": []
    },
    {
      "cell_type": "markdown",
      "metadata": {
        "id": "JozLz8YvijIU"
      },
      "source": [
        "### 데이터셋 다운받아 /data/brain_tumor/ 경로에 위치시키기\r\n",
        "\r\n",
        "참고: 다운받은 뇌종양 데이터셋의 구조\r\n",
        "\r\n",
        "Brain-Tumor-Classification-DataSet-master 폴더 내에 Testing, Training 폴더 내에 glioma_tumor, meningioma_tumor, no_tumor, pituitary_tumor 폴더\r\n",
        "\r\n",
        "glioma_tumor, meningioma_tumor, no_tumor, pituitary_tumor 폴더 내에 이미지 (파일 이름: image(인덱스).jpg)"
      ]
    },
    {
      "cell_type": "code",
      "metadata": {
        "colab": {
          "base_uri": "https://localhost:8080/"
        },
        "id": "ZK0XJwlArp6B",
        "outputId": "4bde79d7-0994-4a79-9bfd-a3e228067989"
      },
      "source": [
        "!wget https://github.com/SartajBhuvaji/Brain-Tumor-Classification-DataSet/archive/master.zip\r\n",
        "os.makedirs(\"/data/brain_tumor/\", exist_ok=True)\r\n",
        "import zipfile\r\n",
        "with zipfile.ZipFile(\"master.zip\",\"r\") as zip_ref:\r\n",
        "  zip_ref.extractall(\"/data/brain_tumor/\")\r\n",
        "%cd /data/brain_tumor/"
      ],
      "execution_count": 7,
      "outputs": [
        {
          "output_type": "stream",
          "text": [
            "--2021-02-17 02:01:27--  https://github.com/SartajBhuvaji/Brain-Tumor-Classification-DataSet/archive/master.zip\n",
            "Resolving github.com (github.com)... 140.82.113.3\n",
            "Connecting to github.com (github.com)|140.82.113.3|:443... connected.\n",
            "HTTP request sent, awaiting response... 302 Found\n",
            "Location: https://codeload.github.com/SartajBhuvaji/Brain-Tumor-Classification-DataSet/zip/master [following]\n",
            "--2021-02-17 02:01:28--  https://codeload.github.com/SartajBhuvaji/Brain-Tumor-Classification-DataSet/zip/master\n",
            "Resolving codeload.github.com (codeload.github.com)... 140.82.113.9\n",
            "Connecting to codeload.github.com (codeload.github.com)|140.82.113.9|:443... connected.\n",
            "HTTP request sent, awaiting response... 200 OK\n",
            "Length: unspecified [application/zip]\n",
            "Saving to: ‘master.zip’\n",
            "\n",
            "master.zip              [                <=> ]  86.97M  25.3MB/s    in 3.6s    \n",
            "\n",
            "2021-02-17 02:01:31 (24.3 MB/s) - ‘master.zip’ saved [91198591]\n",
            "\n",
            "/data/brain_tumor\n"
          ],
          "name": "stdout"
        }
      ]
    },
    {
      "cell_type": "markdown",
      "metadata": {
        "id": "qhwDykLGjI_X"
      },
      "source": [
        "### class로 custom dataset 만들기\r\n",
        "\r\n",
        "기본 구성: \r\n",
        "\r\n",
        "def __init__(self, x, transform)\r\n",
        "\r\n",
        "def __len__(self)\r\n",
        "\r\n",
        "def __getitem__(self,index)"
      ]
    },
    {
      "cell_type": "code",
      "metadata": {
        "id": "0Xz8-yEBwq_X"
      },
      "source": [
        "class BrainTumorDataset(Dataset):\r\n",
        "  train_list=[\"Brain-Tumor-Classification-DataSet-master/Training/glioma_tumor\",\r\n",
        "              \"Brain-Tumor-Classification-DataSet-master/Training/meningioma_tumor\",\r\n",
        "              \"Brain-Tumor-Classification-DataSet-master/Training/no_tumor\",\r\n",
        "              \"Brain-Tumor-Classification-DataSet-master/Training/pituitary_tumor\"]\r\n",
        "  test_list=[\"Brain-Tumor-Classification-DataSet-master/Testing/glioma_tumor\",\r\n",
        "              \"Brain-Tumor-Classification-DataSet-master/Testing/meningioma_tumor\",\r\n",
        "              \"Brain-Tumor-Classification-DataSet-master/Testing/no_tumor\",\r\n",
        "              \"Brain-Tumor-Classification-DataSet-master/Testing/pituitary_tumor\"]\r\n",
        "\r\n",
        "  def __init__(self, root_dir, train=True, transform=None, target_transform=None):\r\n",
        "        #매개변수 :\r\n",
        "        #    root_dir (문자열): 모든 이미지가 있는 폴더 경로 (여기선 /data/brain_tumor/)\r\n",
        "        #    train: True면 train set, False면 test set\r\n",
        "        #    transform (호출가능한 함수, 선택적 매개변수): 샘플에 적용 될 수 있는 선택적 변환\r\n",
        "\r\n",
        "        self.root_dir = root_dir\r\n",
        "        self.train = train  \r\n",
        "        self.transform = transform\r\n",
        "        self.target_transform=target_transform\r\n",
        "\r\n",
        "        if self.train:\r\n",
        "          self.train_data=[]\r\n",
        "          self.train_label=[]\r\n",
        "          for tr in train_list: \r\n",
        "            folder=os.path.join(self.root_dir, tr) #glioma_tumor, meningioma_tumor, no_tumor, pituitary_tumor 폴더의 절대경로\r\n",
        "            for currentdir, dirs, files in os.walk(folder): \r\n",
        "              for file in files: #files: folder경로 내 모든 파일\r\n",
        "                image_name=os.path.join(folder, file)\r\n",
        "                self.train_data.append(image_name)\r\n",
        "                self.train_label.append(tr.split('/')[-1]) #glioma_tumor, meningioma_tumor, no_tumor, pituitary_tumor\r\n",
        "          else:\r\n",
        "            self.test_data=[]\r\n",
        "            self.test_label=[]\r\n",
        "            for ts in test_list:\r\n",
        "              folder=os.path.join(self.root_dir, ts)\r\n",
        "              for currentdir, dirs, files in os.walk(folder):\r\n",
        "                for file in files:\r\n",
        "                  image_name=os.path.join(folder, file)\r\n",
        "                  self.test_data.append(image_name)\r\n",
        "                  self.test_label.append(ts.split('/'[-1]))\r\n",
        "\r\n",
        "\r\n",
        "  def __len__(self):\r\n",
        "      if self.train:\r\n",
        "        return len(self.train_data)\r\n",
        "      else:\r\n",
        "        return len(self.test_data)\r\n",
        "\r\n",
        "  def __getitem__(self, idx):\r\n",
        "        if torch.is_tensor(idx):\r\n",
        "            idx = idx.tolist()\r\n",
        "        \r\n",
        "        if self.train:\r\n",
        "          img, target=io.imread(self.train_data[index]), self.train_label[index]\r\n",
        "        else:\r\n",
        "          img, target=io.imread(self.test_data[index]), self.test_label[index]\r\n",
        "        \r\n",
        "        if self.transform:\r\n",
        "          img=self.transform(img)\r\n",
        "        if self.target_transform:\r\n",
        "          target=self.target_transform(target)\r\n",
        "\r\n",
        "        return img, target\r\n",
        "\r\n"
      ],
      "execution_count": 30,
      "outputs": []
    }
  ]
}