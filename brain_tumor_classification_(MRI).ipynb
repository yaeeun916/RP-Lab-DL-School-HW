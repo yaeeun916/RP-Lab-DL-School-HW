{
  "nbformat": 4,
  "nbformat_minor": 0,
  "metadata": {
    "colab": {
      "name": "brain tumor classification (MRI).ipynb",
      "provenance": [],
      "authorship_tag": "ABX9TyO9Y13a473uwBgd//MilznQ",
      "include_colab_link": true
    },
    "kernelspec": {
      "name": "python3",
      "display_name": "Python 3"
    }
  },
  "cells": [
    {
      "cell_type": "markdown",
      "metadata": {
        "id": "view-in-github",
        "colab_type": "text"
      },
      "source": [
        "<a href=\"https://colab.research.google.com/github/yaeeun916/RP-Lab-DL-School-HW/blob/main/brain_tumor_classification_(MRI).ipynb\" target=\"_parent\"><img src=\"https://colab.research.google.com/assets/colab-badge.svg\" alt=\"Open In Colab\"/></a>"
      ]
    },
    {
      "cell_type": "code",
      "metadata": {
        "id": "oGM9RYQezpKA"
      },
      "source": [
        "import torch\r\n",
        "import torchvision \r\n",
        "#  The torchvision package consists of popular datasets, model architectures, and common image transformations for computer vision.\r\n",
        "from torchvision import transforms\r\n",
        "#  Transforms are common image transformations. They can be chained together using Compose.\r\n",
        "#  All transformations accept PIL Image, Tensor Image or batch of Tensor Images as input.\r\n",
        "from torch.utils.data import DataLoader"
      ],
      "execution_count": 4,
      "outputs": []
    },
    {
      "cell_type": "code",
      "metadata": {
        "id": "yV0USLGGzxn1"
      },
      "source": [
        "from matplotlib.pyplot import imshow\r\n",
        "#  imshow : display data as an image\r\n",
        "%matplotlib inline\r\n",
        "#  any cell within the notebook that creates a plot will embed a PNG image of the resulting graphic (static)"
      ],
      "execution_count": 1,
      "outputs": []
    },
    {
      "cell_type": "code",
      "metadata": {
        "colab": {
          "base_uri": "https://localhost:8080/"
        },
        "id": "8nGc36Puzy1n",
        "outputId": "c5e8fc21-7971-475e-f3d5-cbff37ee5b90"
      },
      "source": [
        "from google.colab import drive\r\n",
        "drive.mount('/content/drive')\r\n",
        "#  구글 드라이브와 연동하기 (드라이브에 미리 데이터를 올려둔다)"
      ],
      "execution_count": 2,
      "outputs": [
        {
          "output_type": "stream",
          "text": [
            "Mounted at /content/drive\n"
          ],
          "name": "stdout"
        }
      ]
    },
    {
      "cell_type": "code",
      "metadata": {
        "id": "ysD3fxHs2Vnv"
      },
      "source": [
        "trans=transforms.Compose([\r\n",
        "                          transforms.Resize((128, 128))\r\n",
        "])\r\n",
        "#  transforms.Compose : transform 여러개 묶어줌\r\n",
        "#  transforms.Resize: Resize the input image to the given size (이미지 사이즈 제각각이고 커서 동일 사이즈로 줄여주는 것)\r\n",
        "\r\n",
        "train_data=torchvision.datasets.ImageFolder(root='/content/drive/MyDrive/brain tumor/Training', transform=trans)\r\n",
        "#  torchvision.datasets.ImageFolder parameters :\r\n",
        "#  root (string) – Root directory path\r\n",
        "#  transform (callable, optional) – A function/transform that takes in an PIL image and returns a transformed version\r\n"
      ],
      "execution_count": 5,
      "outputs": []
    },
    {
      "cell_type": "code",
      "metadata": {
        "id": "OS7O7S8QB8GK"
      },
      "source": [
        "import os\r\n",
        "for path in ['/content/drive/MyDrive/train_data/glioma',\r\n",
        "             '/content/drive/MyDrive/train_data/meningioma',\r\n",
        "             '/content/drive/MyDrive/train_data/no_tumor',\r\n",
        "             '/content/drive/MyDrive/train_data/pituitary_tumor']:\r\n",
        "             if not os.path.exists(path):\r\n",
        "               os.makedirs(path)\r\n",
        "#  위에서 transforms.Resize로 사이즈 줄인 파일들을 data.save로 새 폴더에 저장할 예정\r\n",
        "#  저장할 폴더를 미리 생성해놔야 data.save시 에러 안 생김"
      ],
      "execution_count": 6,
      "outputs": []
    },
    {
      "cell_type": "code",
      "metadata": {
        "id": "SHWT0S5yAUNY"
      },
      "source": [
        "for num, value in enumerate(train_data): #(index, item) list 생성\r\n",
        "  data, label = value #data는 이미지, label은 폴더에 따라 0, 1, 2, 3\r\n",
        "\r\n",
        "  if label==0:\r\n",
        "    data.save('/content/drive/MyDrive/train_data/glioma/%d_%d.jpeg'%(num, label))\r\n",
        "  elif label==1:\r\n",
        "    data.save('/content/drive/MyDrive/train_data/meningioma/%d_%d.jpeg'%(num, label))\r\n",
        "  elif label==2:\r\n",
        "    data.save('/content/drive/MyDrive/train_data/no_tumor/%d_%d.jpeg'%(num, label))\r\n",
        "  else:\r\n",
        "    data.save('/content/drive/MyDrive/train_data/pituitary_tumor/%d_%d.jpeg'%(num, label))"
      ],
      "execution_count": null,
      "outputs": []
    },
    {
      "cell_type": "code",
      "metadata": {
        "id": "UMiuI0KK5qMu"
      },
      "source": [
        "device='cuda' if torch.cuda.is_available() else 'cpu'\r\n",
        "\r\n",
        "#랜덤 시드 고정\r\n",
        "torch.manual_seed(777)\r\n",
        "\r\n",
        "#GPU 사용 가능일 경우 랜덤 시드 고정\r\n",
        "if device=='cuda':\r\n",
        "  torch.cuda.manual_seed_all(777)"
      ],
      "execution_count": null,
      "outputs": []
    }
  ]
}