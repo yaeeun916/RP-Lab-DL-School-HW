{
  "nbformat": 4,
  "nbformat_minor": 0,
  "metadata": {
    "colab": {
      "name": "HW2-ex1",
      "provenance": [],
      "collapsed_sections": []
    },
    "kernelspec": {
      "name": "python3",
      "display_name": "Python 3"
    }
  },
  "cells": [
    {
      "cell_type": "code",
      "metadata": {
        "id": "iXsT9TOovTk4"
      },
      "source": [
        "def MNISTdownload(path): #다운로드 경로는 함수의 인자로 입력 (입력값은 /로 끝나야 함)\r\n",
        "  #IMPORTS\r\n",
        "  import os\r\n",
        "  import urllib.request\r\n",
        "  import gzip\r\n",
        "  !pip install idx2numpy\r\n",
        "  import idx2numpy\r\n",
        "  import numpy as np\r\n",
        "  !pip install scikit-image\r\n",
        "  from skimage.io import imsave\r\n",
        "\r\n",
        "  #다운로드 경로 생성\r\n",
        "  datapath = path \r\n",
        "  if not os.path.exists(datapath):\r\n",
        "      os.makedirs(datapath)\r\n",
        "\r\n",
        "  # http://yann.lecun.com/exdb/mnist/ 에서 MNIST dataset 다운로드\r\n",
        "  hrefs=[\"train-labels-idx1-ubyte.gz\",\"train-images-idx3-ubyte.gz\", \"t10k-labels-idx1-ubyte.gz\", \"t10k-images-idx3-ubyte.gz\"]\r\n",
        "  for href in hrefs: \r\n",
        "    url = \"http://yann.lecun.com/exdb/mnist/\"+href \r\n",
        "    urllib.request.urlretrieve(url, datapath+href) #urlretrieve함수를 통해 원하는 경로에 .gz 파일 다운로드\r\n",
        "\r\n",
        "  #이미지 저장 디렉토리 생성\r\n",
        "  os.makedirs(datapath+'mnist_dataset')\r\n",
        "  os.makedirs(datapath+'mnist_dataset/train')\r\n",
        "  for i in range(10):\r\n",
        "    os.makedirs(datapath+'mnist_dataset/train/%d'%i)\r\n",
        "  os.makedirs(datapath+'mnist_dataset/test')\r\n",
        "  for i in range(10):\r\n",
        "    os.makedirs(datapath+'mnist_dataset/test/%d'%i)\r\n",
        "\r\n",
        "  #training set(60000 examples)\r\n",
        "  with gzip.open(datapath+hrefs[0], 'rb') as f_train_label: #training set의 label 압축 해제\r\n",
        "    arr_train_label=idx2numpy.convert_from_file(f_train_label) #np.ndarray 반환\r\n",
        "  with gzip.open(datapath+hrefs[1], 'rb') as f_train_image: #training set의 image 압축 해제\r\n",
        "    arr_train_image=idx2numpy.convert_from_file(f_train_image) #np.ndarray 반환\r\n",
        "  for i in range(60000): #training set 내 모든 example에 대해 \r\n",
        "    for j in range(10):\r\n",
        "      if arr_train_label[i]==j:#label이 0~9중 무엇인지\r\n",
        "        filenumber=len(os.listdir(datapath+'mnist_dataset/train/%d'%j)) #파일 이름 붙이기: label에 해당하는 폴더 내 파일 수\r\n",
        "        imsave(datapath+'mnist_dataset/train/%d/%d.png'%(j,filenumber), arr_train_image[i]) #arr_train_image[i]를 이미지로 parsing해서 적절한 경로에 저장\r\n",
        "        \r\n",
        "  #test set(1000 examples)\r\n",
        "  with gzip.open(datapath+hrefs[2], 'rb') as f_test_label: #test set의 label 압축 해제\r\n",
        "    arr_test_label=idx2numpy.convert_from_file(f_test_label) #np.ndarray 반환\r\n",
        "  with gzip.open(datapath+hrefs[3], 'rb') as f_test_image: #test set의 image 압축 해제\r\n",
        "    arr_test_image=idx2numpy.convert_from_file(f_test_image) #np.ndarray 반환\r\n",
        "  for i in range(10000): #test set 내 모든 example에 대해 \r\n",
        "    for j in range(10):\r\n",
        "      if arr_train_label[i]==j:#label이 0~9중 무엇인지\r\n",
        "        filenumber=len(os.listdir(datapath+'mnist_dataset/test/%d'%j)) #파일 이름 붙이기: label에 해당하는 폴더 내 파일 수\r\n",
        "        imsave(datapath+'mnist_dataset/test/%d/%d'%(j,filenumber), arr_test_image[i]) #arr_test_image[i]를 이미지로 parsing해서 적절한 경로에 저장\r\n"
      ],
      "execution_count": 32,
      "outputs": []
    }
  ]
}