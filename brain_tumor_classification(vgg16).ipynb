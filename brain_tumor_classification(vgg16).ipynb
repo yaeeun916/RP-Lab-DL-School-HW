{
  "nbformat": 4,
  "nbformat_minor": 0,
  "metadata": {
    "colab": {
      "name": "brain tumor classification(vgg16 수정).ipynb",
      "provenance": [],
      "collapsed_sections": [],
      "include_colab_link": true
    },
    "kernelspec": {
      "name": "python3",
      "display_name": "Python 3"
    },
    "accelerator": "GPU",
    "widgets": {
      "application/vnd.jupyter.widget-state+json": {
        "a958a992bc63432d99cb4776072673df": {
          "model_module": "@jupyter-widgets/controls",
          "model_name": "HBoxModel",
          "state": {
            "_view_name": "HBoxView",
            "_dom_classes": [],
            "_model_name": "HBoxModel",
            "_view_module": "@jupyter-widgets/controls",
            "_model_module_version": "1.5.0",
            "_view_count": null,
            "_view_module_version": "1.5.0",
            "box_style": "",
            "layout": "IPY_MODEL_ed37e82cc118466a9cab3fce0a3c74be",
            "_model_module": "@jupyter-widgets/controls",
            "children": [
              "IPY_MODEL_59f5d3a3ed2146b2a238d42973d8878c",
              "IPY_MODEL_7d01ccdf3fd84366af1684d8a98c6a8a"
            ]
          }
        },
        "ed37e82cc118466a9cab3fce0a3c74be": {
          "model_module": "@jupyter-widgets/base",
          "model_name": "LayoutModel",
          "state": {
            "_view_name": "LayoutView",
            "grid_template_rows": null,
            "right": null,
            "justify_content": null,
            "_view_module": "@jupyter-widgets/base",
            "overflow": null,
            "_model_module_version": "1.2.0",
            "_view_count": null,
            "flex_flow": null,
            "width": null,
            "min_width": null,
            "border": null,
            "align_items": null,
            "bottom": null,
            "_model_module": "@jupyter-widgets/base",
            "top": null,
            "grid_column": null,
            "overflow_y": null,
            "overflow_x": null,
            "grid_auto_flow": null,
            "grid_area": null,
            "grid_template_columns": null,
            "flex": null,
            "_model_name": "LayoutModel",
            "justify_items": null,
            "grid_row": null,
            "max_height": null,
            "align_content": null,
            "visibility": null,
            "align_self": null,
            "height": null,
            "min_height": null,
            "padding": null,
            "grid_auto_rows": null,
            "grid_gap": null,
            "max_width": null,
            "order": null,
            "_view_module_version": "1.2.0",
            "grid_template_areas": null,
            "object_position": null,
            "object_fit": null,
            "grid_auto_columns": null,
            "margin": null,
            "display": null,
            "left": null
          }
        },
        "59f5d3a3ed2146b2a238d42973d8878c": {
          "model_module": "@jupyter-widgets/controls",
          "model_name": "FloatProgressModel",
          "state": {
            "_view_name": "ProgressView",
            "style": "IPY_MODEL_04a2859e772841aa8a2047d5eb4f9ed8",
            "_dom_classes": [],
            "description": "100%",
            "_model_name": "FloatProgressModel",
            "bar_style": "success",
            "max": 553507836,
            "_view_module": "@jupyter-widgets/controls",
            "_model_module_version": "1.5.0",
            "value": 553507836,
            "_view_count": null,
            "_view_module_version": "1.5.0",
            "orientation": "horizontal",
            "min": 0,
            "description_tooltip": null,
            "_model_module": "@jupyter-widgets/controls",
            "layout": "IPY_MODEL_628bcf7abf9044e6ba27bcfc962bf70b"
          }
        },
        "7d01ccdf3fd84366af1684d8a98c6a8a": {
          "model_module": "@jupyter-widgets/controls",
          "model_name": "HTMLModel",
          "state": {
            "_view_name": "HTMLView",
            "style": "IPY_MODEL_59d87e38d428478d854685140a0130bb",
            "_dom_classes": [],
            "description": "",
            "_model_name": "HTMLModel",
            "placeholder": "​",
            "_view_module": "@jupyter-widgets/controls",
            "_model_module_version": "1.5.0",
            "value": " 528M/528M [00:02&lt;00:00, 241MB/s]",
            "_view_count": null,
            "_view_module_version": "1.5.0",
            "description_tooltip": null,
            "_model_module": "@jupyter-widgets/controls",
            "layout": "IPY_MODEL_62d7ce141a2c4e8498b973aa15c66cc6"
          }
        },
        "04a2859e772841aa8a2047d5eb4f9ed8": {
          "model_module": "@jupyter-widgets/controls",
          "model_name": "ProgressStyleModel",
          "state": {
            "_view_name": "StyleView",
            "_model_name": "ProgressStyleModel",
            "description_width": "initial",
            "_view_module": "@jupyter-widgets/base",
            "_model_module_version": "1.5.0",
            "_view_count": null,
            "_view_module_version": "1.2.0",
            "bar_color": null,
            "_model_module": "@jupyter-widgets/controls"
          }
        },
        "628bcf7abf9044e6ba27bcfc962bf70b": {
          "model_module": "@jupyter-widgets/base",
          "model_name": "LayoutModel",
          "state": {
            "_view_name": "LayoutView",
            "grid_template_rows": null,
            "right": null,
            "justify_content": null,
            "_view_module": "@jupyter-widgets/base",
            "overflow": null,
            "_model_module_version": "1.2.0",
            "_view_count": null,
            "flex_flow": null,
            "width": null,
            "min_width": null,
            "border": null,
            "align_items": null,
            "bottom": null,
            "_model_module": "@jupyter-widgets/base",
            "top": null,
            "grid_column": null,
            "overflow_y": null,
            "overflow_x": null,
            "grid_auto_flow": null,
            "grid_area": null,
            "grid_template_columns": null,
            "flex": null,
            "_model_name": "LayoutModel",
            "justify_items": null,
            "grid_row": null,
            "max_height": null,
            "align_content": null,
            "visibility": null,
            "align_self": null,
            "height": null,
            "min_height": null,
            "padding": null,
            "grid_auto_rows": null,
            "grid_gap": null,
            "max_width": null,
            "order": null,
            "_view_module_version": "1.2.0",
            "grid_template_areas": null,
            "object_position": null,
            "object_fit": null,
            "grid_auto_columns": null,
            "margin": null,
            "display": null,
            "left": null
          }
        },
        "59d87e38d428478d854685140a0130bb": {
          "model_module": "@jupyter-widgets/controls",
          "model_name": "DescriptionStyleModel",
          "state": {
            "_view_name": "StyleView",
            "_model_name": "DescriptionStyleModel",
            "description_width": "",
            "_view_module": "@jupyter-widgets/base",
            "_model_module_version": "1.5.0",
            "_view_count": null,
            "_view_module_version": "1.2.0",
            "_model_module": "@jupyter-widgets/controls"
          }
        },
        "62d7ce141a2c4e8498b973aa15c66cc6": {
          "model_module": "@jupyter-widgets/base",
          "model_name": "LayoutModel",
          "state": {
            "_view_name": "LayoutView",
            "grid_template_rows": null,
            "right": null,
            "justify_content": null,
            "_view_module": "@jupyter-widgets/base",
            "overflow": null,
            "_model_module_version": "1.2.0",
            "_view_count": null,
            "flex_flow": null,
            "width": null,
            "min_width": null,
            "border": null,
            "align_items": null,
            "bottom": null,
            "_model_module": "@jupyter-widgets/base",
            "top": null,
            "grid_column": null,
            "overflow_y": null,
            "overflow_x": null,
            "grid_auto_flow": null,
            "grid_area": null,
            "grid_template_columns": null,
            "flex": null,
            "_model_name": "LayoutModel",
            "justify_items": null,
            "grid_row": null,
            "max_height": null,
            "align_content": null,
            "visibility": null,
            "align_self": null,
            "height": null,
            "min_height": null,
            "padding": null,
            "grid_auto_rows": null,
            "grid_gap": null,
            "max_width": null,
            "order": null,
            "_view_module_version": "1.2.0",
            "grid_template_areas": null,
            "object_position": null,
            "object_fit": null,
            "grid_auto_columns": null,
            "margin": null,
            "display": null,
            "left": null
          }
        }
      }
    }
  },
  "cells": [
    {
      "cell_type": "markdown",
      "metadata": {
        "id": "view-in-github",
        "colab_type": "text"
      },
      "source": [
        "<a href=\"https://colab.research.google.com/github/yaeeun916/RP-Lab-DL-School-HW/blob/main/brain_tumor_classification(vgg16).ipynb\" target=\"_parent\"><img src=\"https://colab.research.google.com/assets/colab-badge.svg\" alt=\"Open In Colab\"/></a>"
      ]
    },
    {
      "cell_type": "code",
      "metadata": {
        "id": "pkkXubDF2Uuu"
      },
      "source": [
        "import torch\n",
        "import torch.nn as nn\n",
        "import numpy as np\n",
        "from skimage import io, transform\n",
        "import torchvision\n",
        "from torchvision import models, transforms, utils\n",
        "from torch.utils.data import Dataset, DataLoader\n",
        "import matplotlib.pyplot as plt \n",
        "import zipfile\n",
        "import time\n",
        "import os\n",
        "\n",
        "# 경고 메시지 무시하기\n",
        "import warnings\n",
        "warnings.filterwarnings(\"ignore\")\n",
        "\n",
        "# 반응형 모드 설정 (바로 그래프가 업데이트 된다)\n",
        "plt.ion() "
      ],
      "execution_count": null,
      "outputs": []
    },
    {
      "cell_type": "code",
      "metadata": {
        "colab": {
          "base_uri": "https://localhost:8080/"
        },
        "id": "2YZd9Du7cfQt",
        "outputId": "379d3bc0-6943-41ff-93b3-796a13b0dd92"
      },
      "source": [
        "device='cuda' if torch.cuda.is_available() else 'cpu'\n",
        "\n",
        "# 재생산성(재실행해도 같은 결과가 나오도록)을 위해 랜덤 시드를 준다\n",
        "torch.manual_seed(777)\n",
        "if device=='cuda':\n",
        "  torch.cuda.manual_seed_all(777)\n",
        "\n",
        "print(device)"
      ],
      "execution_count": null,
      "outputs": [
        {
          "output_type": "stream",
          "text": [
            "cuda\n"
          ],
          "name": "stdout"
        }
      ]
    },
    {
      "cell_type": "markdown",
      "metadata": {
        "id": "0rykNzW_5qz4"
      },
      "source": [
        "# Dataset\n",
        "\n",
        "https://tutorials.pytorch.kr/recipes/recipes/custom_dataset_transforms_loader.html"
      ]
    },
    {
      "cell_type": "markdown",
      "metadata": {
        "id": "cQYsQ4RN5yak"
      },
      "source": [
        "## 데이터 다운받아 ./data/brain_tumor/ 경로에 위치시키기\n",
        "\n",
        "참고: 다운받은 뇌종양 데이터셋의 구조\n",
        "\n",
        "Brain-Tumor-Classification-DataSet-master 폴더 내에 Testing, Training 폴더 내에 glioma_tumor, meningioma_tumor, no_tumor, pituitary_tumor 폴더\n",
        "\n",
        "glioma_tumor, meningioma_tumor, no_tumor, pituitary_tumor 폴더 내에 이미지 (파일 이름: image(인덱스).jpg)"
      ]
    },
    {
      "cell_type": "code",
      "metadata": {
        "colab": {
          "base_uri": "https://localhost:8080/"
        },
        "id": "xBDo_5lR27C5",
        "outputId": "b0910cdc-08a9-48dc-f912-12c0f06d57b1"
      },
      "source": [
        "!wget https://github.com/SartajBhuvaji/Brain-Tumor-Classification-DataSet/archive/master.zip\n",
        "os.makedirs(\"./data/brain_tumor/\", exist_ok=True) #exist_ok=True: 해당 디렉토리가 기존에 존재하면 넘어가고, 없을 경우에만 생성\n",
        "if not os.path.exists(\"./data/brain_tumor/master.zip\"): #동일 경로에 다운받은적 없다면\n",
        "  with zipfile.ZipFile(\"master.zip\",\"r\") as zip_ref:\n",
        "    zip_ref.extractall(\"./data/brain_tumor/\") #./data/brain_tumor/에 압축 해제"
      ],
      "execution_count": null,
      "outputs": [
        {
          "output_type": "stream",
          "text": [
            "--2021-03-03 05:03:49--  https://github.com/SartajBhuvaji/Brain-Tumor-Classification-DataSet/archive/master.zip\n",
            "Resolving github.com (github.com)... 140.82.121.4\n",
            "Connecting to github.com (github.com)|140.82.121.4|:443... connected.\n",
            "HTTP request sent, awaiting response... 302 Found\n",
            "Location: https://codeload.github.com/SartajBhuvaji/Brain-Tumor-Classification-DataSet/zip/master [following]\n",
            "--2021-03-03 05:03:50--  https://codeload.github.com/SartajBhuvaji/Brain-Tumor-Classification-DataSet/zip/master\n",
            "Resolving codeload.github.com (codeload.github.com)... 140.82.121.9\n",
            "Connecting to codeload.github.com (codeload.github.com)|140.82.121.9|:443... connected.\n",
            "HTTP request sent, awaiting response... 200 OK\n",
            "Length: unspecified [application/zip]\n",
            "Saving to: ‘master.zip’\n",
            "\n",
            "master.zip              [               <=>  ]  86.97M  26.4MB/s    in 3.5s    \n",
            "\n",
            "2021-03-03 05:03:53 (24.7 MB/s) - ‘master.zip’ saved [91198591]\n",
            "\n"
          ],
          "name": "stdout"
        }
      ]
    },
    {
      "cell_type": "markdown",
      "metadata": {
        "id": "g4oXldDM53cu"
      },
      "source": [
        "## class로 custom dataset 만들기\n",
        "기본 구성:\n",
        "\n",
        "def init(self, x, transform)\n",
        "\n",
        "def len(self)\n",
        "\n",
        "def getitem(self,index)"
      ]
    },
    {
      "cell_type": "code",
      "metadata": {
        "id": "Jno98kIW27oN"
      },
      "source": [
        "class BrainTumorDataset(Dataset): #class Dataset을 상속한 class BrainTumorDataset\n",
        "  train_list=[\"Brain-Tumor-Classification-DataSet-master/Training/no_tumor\",\n",
        "              \"Brain-Tumor-Classification-DataSet-master/Training/glioma_tumor\",\n",
        "              \"Brain-Tumor-Classification-DataSet-master/Training/meningioma_tumor\",\n",
        "              \"Brain-Tumor-Classification-DataSet-master/Training/pituitary_tumor\"]\n",
        "  test_list=[\"Brain-Tumor-Classification-DataSet-master/Testing/no_tumor\",\n",
        "             \"Brain-Tumor-Classification-DataSet-master/Testing/glioma_tumor\",\n",
        "              \"Brain-Tumor-Classification-DataSet-master/Testing/meningioma_tumor\",\n",
        "              \"Brain-Tumor-Classification-DataSet-master/Testing/pituitary_tumor\"]\n",
        "\n",
        "  def __init__(self, root_dir=\"./data/brain_tumor/\", train=True, transform=None):\n",
        "      #매개변수 :\n",
        "      #    root_dir (문자열): 모든 이미지가 있는 폴더 경로 \n",
        "      #    train: True면 train set, False면 test set\n",
        "      #    transform (호출가능한 함수, 선택적 매개변수): 샘플에 적용 될 수 있는 선택적 변환\n",
        "      #    __init__에선 이미지를 읽지 않고 __getitem__에서 읽는다 (메모리)\n",
        "      self.root_dir = root_dir\n",
        "      self.train = train  \n",
        "      self.transform = transform\n",
        "\n",
        "      if self.train:\n",
        "        self.train_data=[] # 이미지 파일의 경로를 append할 list\n",
        "        self.train_label=[] # label(0~3)을 append할 list\n",
        "        for tr in BrainTumorDataset.train_list: \n",
        "          folder=os.path.join(self.root_dir, tr) #glioma_tumor, meningioma_tumor, no_tumor, pituitary_tumor 폴더의 경로\n",
        "          for currentdir, dirs, files in os.walk(folder): \n",
        "            for file in files: #files: folder 내 모든 파일\n",
        "              image_name=os.path.join(folder, file) #image_name=이미지 파일의 경로\n",
        "              self.train_data.append(image_name)\n",
        "              self.train_label.append(BrainTumorDataset.train_list.index(tr)) \n",
        "              # torch.nn.CrossEntropyLoss expects a class index (0 to C-1) as the target \n",
        "              #  :no_tumor는 0, glioma_tumor는 1, meningioma_tumor는 2, pituitary_tumor는 3으로 train_label에 append\n",
        "              # one hot encoding은 torch.nn.CrossEntropyLoss가 해줌\n",
        "      else:\n",
        "        self.test_data=[]\n",
        "        self.test_label=[]\n",
        "        for ts in BrainTumorDataset.test_list:\n",
        "          folder=os.path.join(self.root_dir, ts)\n",
        "          for currentdir, dirs, files in os.walk(folder):\n",
        "            for file in files:\n",
        "              image_name=os.path.join(folder, file)\n",
        "              self.test_data.append(image_name)\n",
        "              self.test_label.append(BrainTumorDataset.test_list.index(ts))\n",
        "\n",
        "\n",
        "  def __len__(self):\n",
        "      if self.train:\n",
        "        return len(self.train_data)\n",
        "      else:\n",
        "        return len(self.test_data)\n",
        "\n",
        "  def __getitem__(self, idx):\n",
        "      if torch.is_tensor(idx):\n",
        "          idx = idx.tolist()\n",
        "      \n",
        "      if self.train:\n",
        "        img, target=io.imread(self.train_data[idx]), self.train_label[idx]\n",
        "      else:\n",
        "        img, target=io.imread(self.test_data[idx]), self.test_label[idx]\n",
        "      # skimage : represent image as numpy array, provides easy-to-use functions for reading, displaying, and saving images\n",
        "      # skimage.io.imread : reads the image, converts it from JPEG into a NumPy array, and returns the array (numpy image: H x W x C)\n",
        "\n",
        "      if self.transform:\n",
        "        img=self.transform(img)\n",
        "\n",
        "      return img, target\n",
        "      # img는 numpy array, target은 int"
      ],
      "execution_count": null,
      "outputs": []
    },
    {
      "cell_type": "markdown",
      "metadata": {
        "id": "AhLFsbBeWl1n"
      },
      "source": [
        "## 데이터 전처리\n",
        "위에서 볼 수 있었던 한가지 문제점은 샘플들이 다 같은 사이즈가 아니라는 것. 대부분의 신경망(neural networks)은 고정된 크기의 이미지라고 가정하므로 신경망에 주기 전에 처리할 과정을 작성해야 한다.\n",
        "All transformations accept PIL Image, Tensor Image\n",
        "\n",
        "*   transforms.ToPILImage(): Convert a tensor or an ndarray to PIL Image. 만든 데이터셋은 numpy array를 append하는데 transformation은 PIL 또는 tensor를 받기 때문에. ToTensor()먼저 안 하는 이유는 range가 [0.0, 1.0]으로 바껴서\n",
        "*   transforms.Resize(size): 이미지 크기 변경, image can be a PIL Image or a torch Tensor \n",
        "*   transforms.ColorJitter(): Randomly change the brightness, contrast and saturation of an image. data augmentation 중 제일 뇌 영상에 적합하다고 생각해서 선정. 방향이 정확히 맞춰서 들어온다고 가정할 수 있으니 굳이 플립, 로테이션은 하지 않기로.\n",
        "*   transforms.ToTensor(): Converts a PIL Image or numpy.ndarray (H x W x C) in the range [0, 255] to a torch.FloatTensor of shape (C x H x W) in the range [0.0, 1.0].\n",
        "PyTorch는 tensor를 사용하므로 numpy 이미지들을 Torch.tensor 이미지로 변환\n",
        "*    transforms.Normalize(mean, std): normalize\n",
        "\n",
        "모든 pretrained model을 쓸 때 이미지 데이터는 [3, H, W] 형식이어야 하고, H,W는 224 이상이어야 한다. 또 아래 코드처럼 정규화된 이미지 데이터로 학습된 것이기 때문에, 이 모델들을 사용할 때에는 데이터셋을 이와 같이 정규화시켜주어야 한다.\n",
        "\n",
        "transforms.Normalize(mean=[0.485, 0.456, 0.406],\n",
        "                     std=[0.229, 0.224, 0.225])"
      ]
    },
    {
      "cell_type": "code",
      "metadata": {
        "id": "uBwGWJL8Fz0a"
      },
      "source": [
        "transform = transforms.Compose([\n",
        "                                transforms.ToPILImage(),\n",
        "                                transforms.Resize((224, 224)),\n",
        "                                transforms.ColorJitter(brightness=0.2, contrast=0.2, saturation=0.2, hue=0.2),\n",
        "                                transforms.ToTensor(),\n",
        "                                transforms.Normalize(mean=[0.485, 0.456, 0.406], std=[0.229, 0.224, 0.225])\n",
        "                                ]) \n"
      ],
      "execution_count": null,
      "outputs": []
    },
    {
      "cell_type": "code",
      "metadata": {
        "id": "z1Tfo7S0n75z"
      },
      "source": [
        "trainset=BrainTumorDataset(root_dir='./data/brain_tumor/',\n",
        "                              train=True,\n",
        "                              transform=transform)\n",
        "\n",
        "#split train set into train set & validation set\n",
        "train_size = int(0.8 * len(trainset))\n",
        "val_size = len(trainset) - train_size\n",
        "trainset, valset = torch.utils.data.random_split(trainset, [train_size, val_size], generator=torch.Generator().manual_seed(777))\n",
        "\n",
        "testset=brain_train=BrainTumorDataset(root_dir='./data/brain_tumor/',\n",
        "                              train=False,\n",
        "                              transform=transform)"
      ],
      "execution_count": null,
      "outputs": []
    },
    {
      "cell_type": "markdown",
      "metadata": {
        "id": "uxew4mZU6EJ7"
      },
      "source": [
        "# Dataloader \n"
      ]
    },
    {
      "cell_type": "code",
      "metadata": {
        "id": "MPMp9avBW1Ky"
      },
      "source": [
        "batchsize = 30\n",
        "\n",
        "trainloader = DataLoader(dataset=trainset, \n",
        "                        batch_size=batchsize,\n",
        "                        shuffle=True,\n",
        "                        drop_last=True)\n",
        "\n",
        "valloader = DataLoader(dataset=valset, \n",
        "                        batch_size=batchsize,\n",
        "                        shuffle=True,\n",
        "                        drop_last=True)\n",
        "\n",
        "testloader = DataLoader(dataset=testset, \n",
        "                         batch_size=1, \n",
        "                         shuffle=False, #test는 셔플할 필요 없음\n",
        "                         drop_last=True)"
      ],
      "execution_count": null,
      "outputs": []
    },
    {
      "cell_type": "markdown",
      "metadata": {
        "id": "AGWFO6Os6luj"
      },
      "source": [
        "# 모델 만들기\n",
        "\n"
      ]
    },
    {
      "cell_type": "markdown",
      "metadata": {
        "id": "fm4NuGXdV3An"
      },
      "source": [
        "## pretrained VGG16\n"
      ]
    },
    {
      "cell_type": "code",
      "metadata": {
        "id": "gv2yKW995PDR",
        "colab": {
          "base_uri": "https://localhost:8080/",
          "height": 1000,
          "referenced_widgets": [
            "a958a992bc63432d99cb4776072673df",
            "ed37e82cc118466a9cab3fce0a3c74be",
            "59f5d3a3ed2146b2a238d42973d8878c",
            "7d01ccdf3fd84366af1684d8a98c6a8a",
            "04a2859e772841aa8a2047d5eb4f9ed8",
            "628bcf7abf9044e6ba27bcfc962bf70b",
            "59d87e38d428478d854685140a0130bb",
            "62d7ce141a2c4e8498b973aa15c66cc6"
          ]
        },
        "outputId": "c9cb2344-83fc-4438-911a-db5e189b02fc"
      },
      "source": [
        "net = models.vgg16_bn(pretrained=True)#vgg16 with batch normalization\n",
        "for param in net.parameters():\n",
        "    param.requires_grad = True        #fine-tune entire network\n",
        "net.classifier[6].out_features = 4    #net의 마지막 레이어 교체 (brain tumor classification의 class 수는 4)\n",
        "net.to(device)\n",
        "\n",
        "#구조 확인\n",
        "print(net)"
      ],
      "execution_count": null,
      "outputs": [
        {
          "output_type": "stream",
          "text": [
            "Downloading: \"https://download.pytorch.org/models/vgg16_bn-6c64b313.pth\" to /root/.cache/torch/hub/checkpoints/vgg16_bn-6c64b313.pth\n"
          ],
          "name": "stderr"
        },
        {
          "output_type": "display_data",
          "data": {
            "application/vnd.jupyter.widget-view+json": {
              "model_id": "a958a992bc63432d99cb4776072673df",
              "version_minor": 0,
              "version_major": 2
            },
            "text/plain": [
              "HBox(children=(FloatProgress(value=0.0, max=553507836.0), HTML(value='')))"
            ]
          },
          "metadata": {
            "tags": []
          }
        },
        {
          "output_type": "stream",
          "text": [
            "\n",
            "VGG(\n",
            "  (features): Sequential(\n",
            "    (0): Conv2d(3, 64, kernel_size=(3, 3), stride=(1, 1), padding=(1, 1))\n",
            "    (1): BatchNorm2d(64, eps=1e-05, momentum=0.1, affine=True, track_running_stats=True)\n",
            "    (2): ReLU(inplace=True)\n",
            "    (3): Conv2d(64, 64, kernel_size=(3, 3), stride=(1, 1), padding=(1, 1))\n",
            "    (4): BatchNorm2d(64, eps=1e-05, momentum=0.1, affine=True, track_running_stats=True)\n",
            "    (5): ReLU(inplace=True)\n",
            "    (6): MaxPool2d(kernel_size=2, stride=2, padding=0, dilation=1, ceil_mode=False)\n",
            "    (7): Conv2d(64, 128, kernel_size=(3, 3), stride=(1, 1), padding=(1, 1))\n",
            "    (8): BatchNorm2d(128, eps=1e-05, momentum=0.1, affine=True, track_running_stats=True)\n",
            "    (9): ReLU(inplace=True)\n",
            "    (10): Conv2d(128, 128, kernel_size=(3, 3), stride=(1, 1), padding=(1, 1))\n",
            "    (11): BatchNorm2d(128, eps=1e-05, momentum=0.1, affine=True, track_running_stats=True)\n",
            "    (12): ReLU(inplace=True)\n",
            "    (13): MaxPool2d(kernel_size=2, stride=2, padding=0, dilation=1, ceil_mode=False)\n",
            "    (14): Conv2d(128, 256, kernel_size=(3, 3), stride=(1, 1), padding=(1, 1))\n",
            "    (15): BatchNorm2d(256, eps=1e-05, momentum=0.1, affine=True, track_running_stats=True)\n",
            "    (16): ReLU(inplace=True)\n",
            "    (17): Conv2d(256, 256, kernel_size=(3, 3), stride=(1, 1), padding=(1, 1))\n",
            "    (18): BatchNorm2d(256, eps=1e-05, momentum=0.1, affine=True, track_running_stats=True)\n",
            "    (19): ReLU(inplace=True)\n",
            "    (20): Conv2d(256, 256, kernel_size=(3, 3), stride=(1, 1), padding=(1, 1))\n",
            "    (21): BatchNorm2d(256, eps=1e-05, momentum=0.1, affine=True, track_running_stats=True)\n",
            "    (22): ReLU(inplace=True)\n",
            "    (23): MaxPool2d(kernel_size=2, stride=2, padding=0, dilation=1, ceil_mode=False)\n",
            "    (24): Conv2d(256, 512, kernel_size=(3, 3), stride=(1, 1), padding=(1, 1))\n",
            "    (25): BatchNorm2d(512, eps=1e-05, momentum=0.1, affine=True, track_running_stats=True)\n",
            "    (26): ReLU(inplace=True)\n",
            "    (27): Conv2d(512, 512, kernel_size=(3, 3), stride=(1, 1), padding=(1, 1))\n",
            "    (28): BatchNorm2d(512, eps=1e-05, momentum=0.1, affine=True, track_running_stats=True)\n",
            "    (29): ReLU(inplace=True)\n",
            "    (30): Conv2d(512, 512, kernel_size=(3, 3), stride=(1, 1), padding=(1, 1))\n",
            "    (31): BatchNorm2d(512, eps=1e-05, momentum=0.1, affine=True, track_running_stats=True)\n",
            "    (32): ReLU(inplace=True)\n",
            "    (33): MaxPool2d(kernel_size=2, stride=2, padding=0, dilation=1, ceil_mode=False)\n",
            "    (34): Conv2d(512, 512, kernel_size=(3, 3), stride=(1, 1), padding=(1, 1))\n",
            "    (35): BatchNorm2d(512, eps=1e-05, momentum=0.1, affine=True, track_running_stats=True)\n",
            "    (36): ReLU(inplace=True)\n",
            "    (37): Conv2d(512, 512, kernel_size=(3, 3), stride=(1, 1), padding=(1, 1))\n",
            "    (38): BatchNorm2d(512, eps=1e-05, momentum=0.1, affine=True, track_running_stats=True)\n",
            "    (39): ReLU(inplace=True)\n",
            "    (40): Conv2d(512, 512, kernel_size=(3, 3), stride=(1, 1), padding=(1, 1))\n",
            "    (41): BatchNorm2d(512, eps=1e-05, momentum=0.1, affine=True, track_running_stats=True)\n",
            "    (42): ReLU(inplace=True)\n",
            "    (43): MaxPool2d(kernel_size=2, stride=2, padding=0, dilation=1, ceil_mode=False)\n",
            "  )\n",
            "  (avgpool): AdaptiveAvgPool2d(output_size=(7, 7))\n",
            "  (classifier): Sequential(\n",
            "    (0): Linear(in_features=25088, out_features=4096, bias=True)\n",
            "    (1): ReLU(inplace=True)\n",
            "    (2): Dropout(p=0.5, inplace=False)\n",
            "    (3): Linear(in_features=4096, out_features=4096, bias=True)\n",
            "    (4): ReLU(inplace=True)\n",
            "    (5): Dropout(p=0.5, inplace=False)\n",
            "    (6): Linear(in_features=4096, out_features=4, bias=True)\n",
            "  )\n",
            ")\n"
          ],
          "name": "stdout"
        }
      ]
    },
    {
      "cell_type": "markdown",
      "metadata": {
        "id": "-fBIQwlg6s93"
      },
      "source": [
        "# 학습\n",
        "\n",
        "https://www.kaggle.com/carloalbertobarbano/vgg16-transfer-learning-pytorch\n",
        "\n",
        "https://greeksharifa.github.io/pytorch/2018/11/10/pytorch-usage-03-How-to-Use-PyTorch/"
      ]
    },
    {
      "cell_type": "markdown",
      "metadata": {
        "id": "CauqBz7l6y4f"
      },
      "source": [
        "## 학습시키기\n",
        "\n",
        "transfer learning\n",
        "- 학습할 dataset이 original dataset과 very similar/very different한지, very little data/quite a lot of data인지에 따라 layer를 얼만큼 freeze하고 얼만큼 train할지 결정\n",
        "- brain tumor dataset은 different from original dataset(ImageNet) & large : fine-tune entire network\n",
        "- lr: 1/10of original lr에서 시작\n",
        "\n",
        "https://tutorials.pytorch.kr/beginner/transfer_learning_tutorial.html\n",
        "https://www.deeplearningwizard.com/deep_learning/boosting_models_pytorch/lr_scheduling/\n",
        "\n",
        "\n",
        "스케줄러마다 적용시 사용 방식이 다름:\n",
        "http://www.gisdeveloper.co.kr/?p=8443"
      ]
    },
    {
      "cell_type": "code",
      "metadata": {
        "id": "nGKsqGpysizy"
      },
      "source": [
        "def train_model(model, criterion, optimizer, lr_sche, num_epochs, PATH):\n",
        "  since = time.time()\n",
        "\n",
        "  #best accuracy\n",
        "  best_acc = 0.0 \n",
        "\n",
        "  train_cost_list=[]\n",
        "  train_acc_list=[]\n",
        "  val_cost_list=[]\n",
        "  val_acc_list=[]\n",
        "\n",
        "  for epoch in range(num_epochs):\n",
        "      print('Epoch {}/{}'.format(epoch, num_epochs - 1))\n",
        "      print('-' * 10)\n",
        "\n",
        "      #train phase\n",
        "      lr_sche.step() # 만약 lr_scheduler.ReduceLROnPlateau쓸거면 optimizer.step() 다음에 와야함(링크 참고)\n",
        "      model.train()  # Set model to training mode\n",
        "              \n",
        "      cost_train = 0.0  \n",
        "      corrects_train = 0 \n",
        "\n",
        "      for X, Y in trainloader: #for each batch\n",
        "          X=X.float().to(device)\n",
        "          Y=Y.to(device)\n",
        "\n",
        "          optimizer.zero_grad()\n",
        "          hypothesis=model(X)\n",
        "          preds=torch.argmax(hypothesis, 1)\n",
        "          cost=criterion(hypothesis, Y)\n",
        "\n",
        "          # backward + optimize only if in training phase (validation set으로는 학습하지 않는다)\n",
        "          cost.backward()\n",
        "          optimizer.step()\n",
        "\n",
        "          cost_train += cost.item() # 한 epoch 내 모든 batch의 cost 누적(+=cost하면 history도 저장됨. +=cost.item()해야 numerical data만 저장)\n",
        "          corrects_train += torch.sum(preds == Y).item() # 한 epoch 내 모든 batch의 맞춘 갯수 누적\n",
        "\n",
        "      epoch_cost = cost_train / len(trainloader)\n",
        "      epoch_acc = corrects_train / (X.size(0)*len(trainloader))\n",
        "        # drop_last=True로 했기 때문에 이렇게 계산\n",
        "        #     : 항상 batch의 데이터 수(=X.size(0)) = 설정한 batch size\n",
        "        #     : 1 epoch에서 사용된 데이터 수 = X.size(0)*total_batch != len(trainset). trainset의 모든 데이터 사용X\n",
        "\n",
        "        # drop_last=False라면 trainset의 모든 데이터가 사용되고, 마지막 batch의 데이터 수는 설정한 batch size보다 작음\n",
        "        #     : cost_train += cost * X.size(0)           => cost는 1batch내 모든 데이터의 cost의 평균이니 다시 X.size(0) 곱해주고\n",
        "        #     : epoch_cost = cost_train / len(trainset)  => 사용된 데이터 수로 나눠줌\n",
        "\n",
        "      print('Train Cost: {:.4f} Acc: {:.4f}'.format(epoch_cost, epoch_acc))\n",
        "      train_cost_list.append(epoch_cost)\n",
        "      train_acc_list.append(epoch_acc)\n",
        "\n",
        "\n",
        "      #validation phase : 5 epoch마다\n",
        "      if epoch%5==4:\n",
        "        with torch.no_grad():# 학습 안 할 것이니 computation 저장X, frees GPU spaces\n",
        "          model.eval()  # Set model to evaluate mode : batchnorm은 학습에서 저장된 파라미터 사용,  dropout은 비활성화\n",
        "\n",
        "          cost_val = 0.0\n",
        "          corrects_val = 0\n",
        "\n",
        "          for X, Y in valloader:\n",
        "              X=X.float().to(device)\n",
        "              Y=Y.to(device)\n",
        "\n",
        "              optimizer.zero_grad()\n",
        "              hypothesis=model(X)\n",
        "              preds = torch.argmax(hypothesis, 1)\n",
        "              cost = criterion(hypothesis, Y)\n",
        "\n",
        "              cost_val += cost.item() \n",
        "              corrects_val += torch.sum(preds == Y).item()\n",
        "\n",
        "          epoch_cost_val = cost_val / len(valloader)\n",
        "          epoch_acc_val = corrects_val / (X.size(0)*len(valloader))\n",
        "\n",
        "          print('Validation Cost: {:.4f} Acc: {:.4f}'.format(epoch_cost_val, epoch_acc_val))\n",
        "          val_cost_list.append(epoch_cost_val)\n",
        "          val_acc_list.append(epoch_acc_val)\n",
        "\n",
        "          # validation set에서 accuracy 가장 높았던 hyperparameter를 선택, 저장\n",
        "          if epoch_acc_val > best_acc:\n",
        "            best_acc = epoch_acc_val\n",
        "            torch.save(model.state_dict(), PATH)\n",
        "\n",
        "      print()\n",
        "\n",
        "\n",
        "  time_elapsed = time.time() - since\n",
        "  print('Training complete in {:.0f}m {:.0f}s'.format(time_elapsed // 60, time_elapsed % 60))\n",
        "  print('Best val Acc: {:4f}'.format(best_acc))\n",
        "\n",
        "\n",
        "  # Loss Tracker, Accuracy Tracker 그래프 그리기\n",
        "  plt.subplot(2,1,1)\n",
        "  plt.plot(train_cost_list, 'r', label='train cost') #plot(y): plot y using x as index array 0..N-1\n",
        "  plt.plot([5*x+4 for x in range(num_epochs//5)], val_cost_list, 'b', label='val cost') #plot(x, y)    \n",
        "  plt.xlabel('epoch')\n",
        "  plt.ylabel('cost')\n",
        "  plt.title('Loss Tracker')\n",
        "  plt.legend(loc='upper right')\n",
        "  plt.show()\n",
        "\n",
        "  plt.subplot(2,2,2)\n",
        "  plt.plot(train_acc_list, 'r', label='train acc')\n",
        "  plt.plot([5*x+4 for x in range(num_epochs//5)], val_acc_list, 'b', label='val acc')\n",
        "  plt.xlabel('epoch')\n",
        "  plt.ylabel('accuracy')\n",
        "  plt.title('Accuracy Tracker')\n",
        "  plt.legend(loc='upper right')\n",
        "  plt.show()\n",
        "\n"
      ],
      "execution_count": null,
      "outputs": []
    },
    {
      "cell_type": "code",
      "metadata": {
        "id": "XtJ1Di81Y5K1"
      },
      "source": [
        "criterion=nn.CrossEntropyLoss() \n",
        "optimizer=torch.optim.SGD(net.parameters(), lr=0.001, momentum=0.9)\n",
        "lr_sche=torch.optim.lr_scheduler.StepLR(optimizer, step_size=5, gamma=0.8)\n",
        "#lr_sche=torch.optim.lr_scheduler.ReduceLROnPlateau(optimizer, factor=0.1, patience=5, threshold=0.0001)\n",
        "num_epochs=5\n",
        "PATH = './braintumor_model.pth'"
      ],
      "execution_count": null,
      "outputs": []
    },
    {
      "cell_type": "code",
      "metadata": {
        "colab": {
          "base_uri": "https://localhost:8080/"
        },
        "id": "HhZ7PBYdBEWU",
        "outputId": "ca16d134-b9cd-40fc-fccf-5c26761cd98a"
      },
      "source": [
        "train_model(net, criterion, optimizer, lr_sche, num_epochs, PATH)"
      ],
      "execution_count": null,
      "outputs": [
        {
          "output_type": "stream",
          "text": [
            "Epoch 0/4\n",
            "----------\n",
            "Train Cost: 1.1228 Acc: 0.7316\n",
            "\n",
            "Epoch 1/4\n",
            "----------\n",
            "Train Cost: 0.1669 Acc: 0.9417\n",
            "\n",
            "Epoch 2/4\n",
            "----------\n",
            "Train Cost: 0.0703 Acc: 0.9772\n",
            "\n",
            "Epoch 3/4\n",
            "----------\n",
            "Train Cost: 0.0323 Acc: 0.9908\n",
            "\n",
            "Epoch 4/4\n",
            "----------\n",
            "Train Cost: 0.0214 Acc: 0.9934\n",
            "Validation Cost: 0.2002 Acc: 0.9281\n",
            "\n",
            "Training complete in 3m 40s\n",
            "Best val Acc: 0.928070\n"
          ],
          "name": "stdout"
        },
        {
          "output_type": "display_data",
          "data": {
            "image/png": "[encoded data removed]",
            "text/plain": [
              "<Figure size 432x288 with 1 Axes>"
            ]
          },
          "metadata": {
            "tags": [],
            "needs_background": "light"
          }
        },
        {
          "output_type": "display_data",
          "data": {
            "image/png": "[encoded data removed]",
            "text/plain": [
              "<Figure size 432x288 with 1 Axes>"
            ]
          },
          "metadata": {
            "tags": [],
            "needs_background": "light"
          }
        }
      ]
    },
    {
      "cell_type": "markdown",
      "metadata": {
        "id": "wVHyG5FD6uAU"
      },
      "source": [
        "# 5. 테스트"
      ]
    },
    {
      "cell_type": "markdown",
      "metadata": {
        "id": "z-1BY7S67P0v"
      },
      "source": [
        "## 5.1 저장한 hyperparameter 불러오기\n",
        "- GPU에서 저장하고 GPU에서 불러오기\n",
        "\n",
        "https://tutorials.pytorch.kr/beginner/saving_loading_models.html"
      ]
    },
    {
      "cell_type": "code",
      "metadata": {
        "colab": {
          "base_uri": "https://localhost:8080/"
        },
        "id": "UIwW6tCvT5nI",
        "outputId": "c839428a-110b-4602-b1fd-2b047ae0dc00"
      },
      "source": [
        "net.load_state_dict(torch.load(PATH))\n",
        "net.to(device)"
      ],
      "execution_count": null,
      "outputs": [
        {
          "output_type": "execute_result",
          "data": {
            "text/plain": [
              "VGG(\n",
              "  (features): Sequential(\n",
              "    (0): Conv2d(3, 64, kernel_size=(3, 3), stride=(1, 1), padding=(1, 1))\n",
              "    (1): BatchNorm2d(64, eps=1e-05, momentum=0.1, affine=True, track_running_stats=True)\n",
              "    (2): ReLU(inplace=True)\n",
              "    (3): Conv2d(64, 64, kernel_size=(3, 3), stride=(1, 1), padding=(1, 1))\n",
              "    (4): BatchNorm2d(64, eps=1e-05, momentum=0.1, affine=True, track_running_stats=True)\n",
              "    (5): ReLU(inplace=True)\n",
              "    (6): MaxPool2d(kernel_size=2, stride=2, padding=0, dilation=1, ceil_mode=False)\n",
              "    (7): Conv2d(64, 128, kernel_size=(3, 3), stride=(1, 1), padding=(1, 1))\n",
              "    (8): BatchNorm2d(128, eps=1e-05, momentum=0.1, affine=True, track_running_stats=True)\n",
              "    (9): ReLU(inplace=True)\n",
              "    (10): Conv2d(128, 128, kernel_size=(3, 3), stride=(1, 1), padding=(1, 1))\n",
              "    (11): BatchNorm2d(128, eps=1e-05, momentum=0.1, affine=True, track_running_stats=True)\n",
              "    (12): ReLU(inplace=True)\n",
              "    (13): MaxPool2d(kernel_size=2, stride=2, padding=0, dilation=1, ceil_mode=False)\n",
              "    (14): Conv2d(128, 256, kernel_size=(3, 3), stride=(1, 1), padding=(1, 1))\n",
              "    (15): BatchNorm2d(256, eps=1e-05, momentum=0.1, affine=True, track_running_stats=True)\n",
              "    (16): ReLU(inplace=True)\n",
              "    (17): Conv2d(256, 256, kernel_size=(3, 3), stride=(1, 1), padding=(1, 1))\n",
              "    (18): BatchNorm2d(256, eps=1e-05, momentum=0.1, affine=True, track_running_stats=True)\n",
              "    (19): ReLU(inplace=True)\n",
              "    (20): Conv2d(256, 256, kernel_size=(3, 3), stride=(1, 1), padding=(1, 1))\n",
              "    (21): BatchNorm2d(256, eps=1e-05, momentum=0.1, affine=True, track_running_stats=True)\n",
              "    (22): ReLU(inplace=True)\n",
              "    (23): MaxPool2d(kernel_size=2, stride=2, padding=0, dilation=1, ceil_mode=False)\n",
              "    (24): Conv2d(256, 512, kernel_size=(3, 3), stride=(1, 1), padding=(1, 1))\n",
              "    (25): BatchNorm2d(512, eps=1e-05, momentum=0.1, affine=True, track_running_stats=True)\n",
              "    (26): ReLU(inplace=True)\n",
              "    (27): Conv2d(512, 512, kernel_size=(3, 3), stride=(1, 1), padding=(1, 1))\n",
              "    (28): BatchNorm2d(512, eps=1e-05, momentum=0.1, affine=True, track_running_stats=True)\n",
              "    (29): ReLU(inplace=True)\n",
              "    (30): Conv2d(512, 512, kernel_size=(3, 3), stride=(1, 1), padding=(1, 1))\n",
              "    (31): BatchNorm2d(512, eps=1e-05, momentum=0.1, affine=True, track_running_stats=True)\n",
              "    (32): ReLU(inplace=True)\n",
              "    (33): MaxPool2d(kernel_size=2, stride=2, padding=0, dilation=1, ceil_mode=False)\n",
              "    (34): Conv2d(512, 512, kernel_size=(3, 3), stride=(1, 1), padding=(1, 1))\n",
              "    (35): BatchNorm2d(512, eps=1e-05, momentum=0.1, affine=True, track_running_stats=True)\n",
              "    (36): ReLU(inplace=True)\n",
              "    (37): Conv2d(512, 512, kernel_size=(3, 3), stride=(1, 1), padding=(1, 1))\n",
              "    (38): BatchNorm2d(512, eps=1e-05, momentum=0.1, affine=True, track_running_stats=True)\n",
              "    (39): ReLU(inplace=True)\n",
              "    (40): Conv2d(512, 512, kernel_size=(3, 3), stride=(1, 1), padding=(1, 1))\n",
              "    (41): BatchNorm2d(512, eps=1e-05, momentum=0.1, affine=True, track_running_stats=True)\n",
              "    (42): ReLU(inplace=True)\n",
              "    (43): MaxPool2d(kernel_size=2, stride=2, padding=0, dilation=1, ceil_mode=False)\n",
              "  )\n",
              "  (avgpool): AdaptiveAvgPool2d(output_size=(7, 7))\n",
              "  (classifier): Sequential(\n",
              "    (0): Linear(in_features=25088, out_features=4096, bias=True)\n",
              "    (1): ReLU(inplace=True)\n",
              "    (2): Dropout(p=0.5, inplace=False)\n",
              "    (3): Linear(in_features=4096, out_features=4096, bias=True)\n",
              "    (4): ReLU(inplace=True)\n",
              "    (5): Dropout(p=0.5, inplace=False)\n",
              "    (6): Linear(in_features=4096, out_features=4, bias=True)\n",
              "  )\n",
              ")"
            ]
          },
          "metadata": {
            "tags": []
          },
          "execution_count": 12
        }
      ]
    },
    {
      "cell_type": "markdown",
      "metadata": {
        "id": "FA0FqeZi7Vff"
      },
      "source": [
        "## 5.2 테스트하기"
      ]
    },
    {
      "cell_type": "code",
      "metadata": {
        "id": "eiM00Idy2vHJ",
        "colab": {
          "base_uri": "https://localhost:8080/"
        },
        "outputId": "36ef241b-cbd1-478f-afa5-b5bbe69e9584"
      },
      "source": [
        "with torch.no_grad(): #학습을 진행하지 않을 것이므로 torch.no_grad()\n",
        "    net.eval() #model에 batch normalization 있으면 train mode, eval mode 구별 필요\n",
        "    correct_predictions=0\n",
        "    for X, Y in testloader: #batch_size=1\n",
        "        X=X.float().to(device)\n",
        "        Y=Y.to(device)\n",
        "\n",
        "        prediction=net(X)\n",
        "        correct_prediction=torch.argmax(prediction, 1)==Y #boolean tensor(True, False)\n",
        "        correct_predictions+=correct_prediction.float().item() #boolean tensor에서 float tensor에서 scalar로\n",
        "    accuracy=correct_predictions/len(testloader) #batch size 1로 했으니 len(testset)=len(testloader)\n",
        "    print('Test Acc:', accuracy)"
      ],
      "execution_count": null,
      "outputs": [
        {
          "output_type": "stream",
          "text": [
            "Test Acc: 0.766497461928934\n"
          ],
          "name": "stdout"
        }
      ]
    }
  ]
}